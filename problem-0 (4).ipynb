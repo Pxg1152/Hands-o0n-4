{
 "cells": [
  {
   "cell_type": "markdown",
   "id": "5846a7d3",
   "metadata": {},
   "source": [
    "# Problem 0"
   ]
  },
  {
   "cell_type": "code",
   "execution_count": 1,
   "id": "28436294",
   "metadata": {},
   "outputs": [
    {
     "name": "stdout",
     "output_type": "stream",
     "text": [
      "Debugging fib(5)\n",
      "fib(5)\n",
      "fib(4)\n",
      "fib(3)\n",
      "fib(2)\n",
      "fib(1)\n",
      "fib(0)\n",
      "fib(1)\n",
      "fib(2)\n",
      "fib(1)\n",
      "fib(0)\n",
      "fib(3)\n",
      "fib(2)\n",
      "fib(1)\n",
      "fib(0)\n",
      "fib(1)\n",
      "Result: 5\n"
     ]
    }
   ],
   "source": [
    "def fib(n):\n",
    "    print(\"fib({})\".format(n))\n",
    "    if n == 0:\n",
    "        return 0\n",
    "    if n == 1:\n",
    "        return 1\n",
    "    return fib(n-1) + fib(n-2)\n",
    "\n",
    "def debug_fib(n):\n",
    "    print(\"Debugging fib({})\".format(n))\n",
    "    return fib(n)\n",
    "\n",
    "def main():\n",
    "    result = debug_fib(5)\n",
    "    print(\"Result:\", result)\n",
    "\n",
    "if __name__ == \"__main__\":\n",
    "    main()"
   ]
  },
  {
   "cell_type": "markdown",
   "id": "ca15a6f7",
   "metadata": {},
   "source": [
    "# Problem 1"
   ]
  },
  {
   "cell_type": "code",
   "execution_count": 2,
   "id": "3961b0a4",
   "metadata": {},
   "outputs": [
    {
     "name": "stdout",
     "output_type": "stream",
     "text": [
      "[0, 1, 2, 3, 4, 5, 6, 7, 8, 9, 10, 11]\n"
     ]
    }
   ],
   "source": [
    "def merge_sorted_arrays(arrays):\n",
    "    import heapq\n",
    "    merged = []\n",
    "    heap = [(array[0], i, 0) for i, array in enumerate(arrays) if array]\n",
    "    heapq.heapify(heap)\n",
    "    while heap:\n",
    "        val, arr_idx, elem_idx = heapq.heappop(heap)\n",
    "        merged.append(val)\n",
    "        if elem_idx + 1 < len(arrays[arr_idx]):\n",
    "            next_val = arrays[arr_idx][elem_idx + 1]\n",
    "            heapq.heappush(heap, (next_val, arr_idx, elem_idx + 1))\n",
    "    return merged\n",
    "arrays = [[1,3,5,7], [2,4,6,8], [0,9,10,11]]\n",
    "\n",
    "print(merge_sorted_arrays(arrays))\n"
   ]
  },
  {
   "cell_type": "markdown",
   "id": "52dc5ffa",
   "metadata": {},
   "source": [
    "# Problem 2"
   ]
  },
  {
   "cell_type": "code",
   "execution_count": 3,
   "id": "3ae65e76",
   "metadata": {},
   "outputs": [
    {
     "name": "stdout",
     "output_type": "stream",
     "text": [
      "[1, 2, 3, 4, 5]\n"
     ]
    }
   ],
   "source": [
    "def remove_duplicates(array):\n",
    "    if not array:\n",
    "        return []\n",
    "    unique = [array[0]]\n",
    "    for i in range(1, len(array)):\n",
    "        if array[i] != array[i - 1]:\n",
    "            unique.append(array[i])\n",
    "    return unique\n",
    "arr = [1, 2, 2, 3, 4, 4, 4, 5, 5]\n",
    "print(remove_duplicates(arr))\n"
   ]
  },
  {
   "cell_type": "code",
   "execution_count": null,
   "id": "9f4269aa",
   "metadata": {},
   "outputs": [],
   "source": []
  }
 ],
 "metadata": {
  "kernelspec": {
   "display_name": "Python 3 (ipykernel)",
   "language": "python",
   "name": "python3"
  },
  "language_info": {
   "codemirror_mode": {
    "name": "ipython",
    "version": 3
   },
   "file_extension": ".py",
   "mimetype": "text/x-python",
   "name": "python",
   "nbconvert_exporter": "python",
   "pygments_lexer": "ipython3",
   "version": "3.11.5"
  }
 },
 "nbformat": 4,
 "nbformat_minor": 5
}
